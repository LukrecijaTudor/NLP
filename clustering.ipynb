{
  "nbformat": 4,
  "nbformat_minor": 0,
  "metadata": {
    "colab": {
      "name": "clustering.ipynb",
      "provenance": [],
      "collapsed_sections": [],
      "authorship_tag": "ABX9TyM91nB4rPqU+XxET6a4i048",
      "include_colab_link": true
    },
    "kernelspec": {
      "name": "python3",
      "display_name": "Python 3"
    },
    "widgets": {
      "application/vnd.jupyter.widget-state+json": {
        "17aaed76845c4c1a85973e9d537f9eaa": {
          "model_module": "@jupyter-widgets/controls",
          "model_name": "HBoxModel",
          "state": {
            "_view_name": "HBoxView",
            "_dom_classes": [],
            "_model_name": "HBoxModel",
            "_view_module": "@jupyter-widgets/controls",
            "_model_module_version": "1.5.0",
            "_view_count": null,
            "_view_module_version": "1.5.0",
            "box_style": "",
            "layout": "IPY_MODEL_14d1a12dd6914f56bbdc4e7dce5694d1",
            "_model_module": "@jupyter-widgets/controls",
            "children": [
              "IPY_MODEL_2393dc81d611452e96f648bc0e740ccc",
              "IPY_MODEL_f66af8ef13c04667a911ba1311390421"
            ]
          }
        },
        "14d1a12dd6914f56bbdc4e7dce5694d1": {
          "model_module": "@jupyter-widgets/base",
          "model_name": "LayoutModel",
          "state": {
            "_view_name": "LayoutView",
            "grid_template_rows": null,
            "right": null,
            "justify_content": null,
            "_view_module": "@jupyter-widgets/base",
            "overflow": null,
            "_model_module_version": "1.2.0",
            "_view_count": null,
            "flex_flow": null,
            "width": null,
            "min_width": null,
            "border": null,
            "align_items": null,
            "bottom": null,
            "_model_module": "@jupyter-widgets/base",
            "top": null,
            "grid_column": null,
            "overflow_y": null,
            "overflow_x": null,
            "grid_auto_flow": null,
            "grid_area": null,
            "grid_template_columns": null,
            "flex": null,
            "_model_name": "LayoutModel",
            "justify_items": null,
            "grid_row": null,
            "max_height": null,
            "align_content": null,
            "visibility": null,
            "align_self": null,
            "height": null,
            "min_height": null,
            "padding": null,
            "grid_auto_rows": null,
            "grid_gap": null,
            "max_width": null,
            "order": null,
            "_view_module_version": "1.2.0",
            "grid_template_areas": null,
            "object_position": null,
            "object_fit": null,
            "grid_auto_columns": null,
            "margin": null,
            "display": null,
            "left": null
          }
        },
        "2393dc81d611452e96f648bc0e740ccc": {
          "model_module": "@jupyter-widgets/controls",
          "model_name": "FloatProgressModel",
          "state": {
            "_view_name": "ProgressView",
            "style": "IPY_MODEL_2c097c3cc14e4bfa9ee5be7135de348e",
            "_dom_classes": [],
            "description": "Batches: 100%",
            "_model_name": "FloatProgressModel",
            "bar_style": "success",
            "max": 105,
            "_view_module": "@jupyter-widgets/controls",
            "_model_module_version": "1.5.0",
            "value": 105,
            "_view_count": null,
            "_view_module_version": "1.5.0",
            "orientation": "horizontal",
            "min": 0,
            "description_tooltip": null,
            "_model_module": "@jupyter-widgets/controls",
            "layout": "IPY_MODEL_a552c93c503a45689ae8c6c3a11d3740"
          }
        },
        "f66af8ef13c04667a911ba1311390421": {
          "model_module": "@jupyter-widgets/controls",
          "model_name": "HTMLModel",
          "state": {
            "_view_name": "HTMLView",
            "style": "IPY_MODEL_499cb4779da8458bbf3e11f4266d764b",
            "_dom_classes": [],
            "description": "",
            "_model_name": "HTMLModel",
            "placeholder": "​",
            "_view_module": "@jupyter-widgets/controls",
            "_model_module_version": "1.5.0",
            "value": " 105/105 [11:08&lt;00:00,  6.36s/it]",
            "_view_count": null,
            "_view_module_version": "1.5.0",
            "description_tooltip": null,
            "_model_module": "@jupyter-widgets/controls",
            "layout": "IPY_MODEL_223d7b499edd4a4c98775c8556112d73"
          }
        },
        "2c097c3cc14e4bfa9ee5be7135de348e": {
          "model_module": "@jupyter-widgets/controls",
          "model_name": "ProgressStyleModel",
          "state": {
            "_view_name": "StyleView",
            "_model_name": "ProgressStyleModel",
            "description_width": "initial",
            "_view_module": "@jupyter-widgets/base",
            "_model_module_version": "1.5.0",
            "_view_count": null,
            "_view_module_version": "1.2.0",
            "bar_color": null,
            "_model_module": "@jupyter-widgets/controls"
          }
        },
        "a552c93c503a45689ae8c6c3a11d3740": {
          "model_module": "@jupyter-widgets/base",
          "model_name": "LayoutModel",
          "state": {
            "_view_name": "LayoutView",
            "grid_template_rows": null,
            "right": null,
            "justify_content": null,
            "_view_module": "@jupyter-widgets/base",
            "overflow": null,
            "_model_module_version": "1.2.0",
            "_view_count": null,
            "flex_flow": null,
            "width": null,
            "min_width": null,
            "border": null,
            "align_items": null,
            "bottom": null,
            "_model_module": "@jupyter-widgets/base",
            "top": null,
            "grid_column": null,
            "overflow_y": null,
            "overflow_x": null,
            "grid_auto_flow": null,
            "grid_area": null,
            "grid_template_columns": null,
            "flex": null,
            "_model_name": "LayoutModel",
            "justify_items": null,
            "grid_row": null,
            "max_height": null,
            "align_content": null,
            "visibility": null,
            "align_self": null,
            "height": null,
            "min_height": null,
            "padding": null,
            "grid_auto_rows": null,
            "grid_gap": null,
            "max_width": null,
            "order": null,
            "_view_module_version": "1.2.0",
            "grid_template_areas": null,
            "object_position": null,
            "object_fit": null,
            "grid_auto_columns": null,
            "margin": null,
            "display": null,
            "left": null
          }
        },
        "499cb4779da8458bbf3e11f4266d764b": {
          "model_module": "@jupyter-widgets/controls",
          "model_name": "DescriptionStyleModel",
          "state": {
            "_view_name": "StyleView",
            "_model_name": "DescriptionStyleModel",
            "description_width": "",
            "_view_module": "@jupyter-widgets/base",
            "_model_module_version": "1.5.0",
            "_view_count": null,
            "_view_module_version": "1.2.0",
            "_model_module": "@jupyter-widgets/controls"
          }
        },
        "223d7b499edd4a4c98775c8556112d73": {
          "model_module": "@jupyter-widgets/base",
          "model_name": "LayoutModel",
          "state": {
            "_view_name": "LayoutView",
            "grid_template_rows": null,
            "right": null,
            "justify_content": null,
            "_view_module": "@jupyter-widgets/base",
            "overflow": null,
            "_model_module_version": "1.2.0",
            "_view_count": null,
            "flex_flow": null,
            "width": null,
            "min_width": null,
            "border": null,
            "align_items": null,
            "bottom": null,
            "_model_module": "@jupyter-widgets/base",
            "top": null,
            "grid_column": null,
            "overflow_y": null,
            "overflow_x": null,
            "grid_auto_flow": null,
            "grid_area": null,
            "grid_template_columns": null,
            "flex": null,
            "_model_name": "LayoutModel",
            "justify_items": null,
            "grid_row": null,
            "max_height": null,
            "align_content": null,
            "visibility": null,
            "align_self": null,
            "height": null,
            "min_height": null,
            "padding": null,
            "grid_auto_rows": null,
            "grid_gap": null,
            "max_width": null,
            "order": null,
            "_view_module_version": "1.2.0",
            "grid_template_areas": null,
            "object_position": null,
            "object_fit": null,
            "grid_auto_columns": null,
            "margin": null,
            "display": null,
            "left": null
          }
        }
      }
    }
  },
  "cells": [
    {
      "cell_type": "markdown",
      "metadata": {
        "id": "view-in-github",
        "colab_type": "text"
      },
      "source": [
        "<a href=\"https://colab.research.google.com/github/LukrecijaTudor/NLP/blob/main/clustering.ipynb\" target=\"_parent\"><img src=\"https://colab.research.google.com/assets/colab-badge.svg\" alt=\"Open In Colab\"/></a>"
      ]
    },
    {
      "cell_type": "code",
      "metadata": {
        "id": "p7SvpngtrRps"
      },
      "source": [
        "pip install -U sentence-transformers"
      ],
      "execution_count": null,
      "outputs": []
    },
    {
      "cell_type": "code",
      "metadata": {
        "id": "MyNH2CeB0gfL"
      },
      "source": [
        "#pip install tokenizers"
      ],
      "execution_count": null,
      "outputs": []
    },
    {
      "cell_type": "code",
      "metadata": {
        "id": "O4ALwhGMrw1X"
      },
      "source": [
        "pip install umap-learn"
      ],
      "execution_count": null,
      "outputs": []
    },
    {
      "cell_type": "code",
      "metadata": {
        "id": "GDA4kM_1tUjJ"
      },
      "source": [
        "pip install pycld2"
      ],
      "execution_count": null,
      "outputs": []
    },
    {
      "cell_type": "code",
      "metadata": {
        "id": "He1hlyAjtjid"
      },
      "source": [
        "pip install pyLDAvis"
      ],
      "execution_count": null,
      "outputs": []
    },
    {
      "cell_type": "code",
      "metadata": {
        "id": "GfaWB00qtvFY"
      },
      "source": [
        "#pip install simpletransformers"
      ],
      "execution_count": null,
      "outputs": []
    },
    {
      "cell_type": "code",
      "metadata": {
        "id": "GTitImgmtGKT"
      },
      "source": [
        "import sys"
      ],
      "execution_count": null,
      "outputs": []
    },
    {
      "cell_type": "code",
      "metadata": {
        "id": "BssshwyZs1XG"
      },
      "source": [
        "#pip install textprocessingutil_py"
      ],
      "execution_count": null,
      "outputs": []
    },
    {
      "cell_type": "code",
      "metadata": {
        "id": "gSsumJ6_rw4w"
      },
      "source": [
        "#from textprocessingutil_py import TextUtil\n",
        "#textUtil = TextUtil()\n",
        "from sentence_transformers import SentenceTransformer\n",
        "from sentence_transformers import util\n",
        "from sklearn.cluster import KMeans\n",
        "\n",
        "import torch\n",
        "import umap\n",
        "import nltk\n",
        "import os\n",
        "import string\n",
        "import numpy as np\n",
        "import copy\n",
        "import pandas as pd\n",
        "import gensim\n",
        "from gensim.models import CoherenceModel\n",
        "from gensim.models import TfidfModel\n",
        "from gensim import models\n",
        "import gensim.corpora as corpora\n",
        "from sklearn.model_selection import train_test_split\n",
        "from statistics import mean\n",
        "from sklearn.metrics.pairwise import cosine_similarity\n",
        "from scipy.spatial import distance\n",
        "from gensim.matutils import softcossim\n",
        "import math\n",
        "import nltk\n",
        "lemma = nltk.wordnet.WordNetLemmatizer()\n",
        "#python -m pip install -U pycld2\n",
        "import pycld2 as cld2\n",
        "import spacy\n",
        "sp = spacy.load(\"en\")\n",
        "sp_stopwords=sp.Defaults.stop_words\n",
        "import pyLDAvis\n",
        "import pyLDAvis.gensim\n",
        "import matplotlib.pyplot as plt\n",
        "%matplotlib inline\n",
        "from transformers import DistilBertModel, DistilBertConfig\n",
        "from wordcloud import WordCloud\n",
        "from sklearn.model_selection import train_test_split\n",
        "#from simpletransformers.classification import ClassificationModel"
      ],
      "execution_count": null,
      "outputs": []
    },
    {
      "cell_type": "code",
      "metadata": {
        "id": "STiq39Mrrw8i"
      },
      "source": [
        "from sklearn.cluster import KMeans\n",
        "from sklearn.metrics import silhouette_score\n",
        "from scipy.sparse import csr_matrix\n",
        "from sklearn.utils.extmath import randomized_svd\n",
        "from google.colab import files\n",
        "import io\n",
        "import collections"
      ],
      "execution_count": null,
      "outputs": []
    },
    {
      "cell_type": "code",
      "metadata": {
        "id": "9Wl4_uwlrxBD"
      },
      "source": [
        "acronyms = pd.read_excel(\"/content/kratice.xlsx\")\n",
        "acronyms = acronyms.rename(columns={'kratice':'acronym','Unnamed: 1':'replacement'})"
      ],
      "execution_count": null,
      "outputs": []
    },
    {
      "cell_type": "code",
      "metadata": {
        "id": "eoKp0YQLrxFS"
      },
      "source": [
        "def acronyms_to_words (txt):\n",
        "    #acronyms = pd.read_excel(\"/Users/Lukre/Desktop/D/kratice.xlsx\")\n",
        "    #acronyms = acronyms.rename(columns={'kratice':'acronym','Unnamed: 1':'replacement'})\n",
        "    for i in range (len(acronyms)):\n",
        "        txt=txt.replace(' ' + acronyms.acronym[i] + ' ',' ' + acronyms.replacement[i] + ' ')\n",
        "    return txt\n",
        "\n",
        "def isNaN(string):\n",
        "    return string != string"
      ],
      "execution_count": null,
      "outputs": []
    },
    {
      "cell_type": "code",
      "metadata": {
        "id": "PS6BuTUGrxJX"
      },
      "source": [
        "document = pd.read_csv(\"/content/qa06_all.csv\")\n",
        "document = document.rename(columns={'qa06id': 'id', 'qa06name':'title', 'qa06wher':'location','qa06dsc':'report'})\n",
        "document_risk=pd.read_csv(\"/content/qa06_only_having_risk_valuesl.csv\")\n",
        "document_risk = document_risk.rename(columns={'qa06id': 'id', 'qa06name':'title', 'qa06wher':'location','qa06dsc':'report','ty26colo':'label','ty26fakt':'factor'})"
      ],
      "execution_count": null,
      "outputs": []
    },
    {
      "cell_type": "code",
      "metadata": {
        "id": "A5J66zARrxOK"
      },
      "source": [
        "doc_risk_str=pd.read_csv(\"/content/doc_risk_str.csv\")\n",
        "doc_risk_tok=pd.read_csv(\"/content/doc_risk_tok.csv\")"
      ],
      "execution_count": null,
      "outputs": []
    },
    {
      "cell_type": "code",
      "metadata": {
        "id": "ugWSOopDrxTe"
      },
      "source": [
        "# train/validation split\n",
        "def train_val_split_1 (doc,label,rnd=42,size=0.2):\n",
        "  X_train, X_val, y_train, y_val = train_test_split(doc.index.values, \n",
        "                                                  doc.label.values, \n",
        "                                                  test_size=size, \n",
        "                                                  random_state=rnd, \n",
        "                                                  stratify=doc.label.values)\n",
        "  doc['data_type'] = ['not_set']*doc.shape[0]\n",
        "\n",
        "\n",
        "  doc.loc[X_train, 'data_type'] = 'train'\n",
        "  doc.loc[X_val, 'data_type'] = 'val' \n",
        "  return doc\n",
        "\n",
        "def train_val_split_2 (doc,doc2,label,rnd=42,size=0.2):\n",
        "  X_train, X_val, y_train, y_val = train_test_split(doc.index.values, \n",
        "                                                  doc.label.values, \n",
        "                                                  test_size=size, \n",
        "                                                  random_state=rnd, \n",
        "                                                  stratify=doc.label.values)\n",
        "  doc['data_type'] = ['not_set']*doc.shape[0]\n",
        "  doc2['data_type'] = ['not_set']*doc2.shape[0]\n",
        "\n",
        "\n",
        "  doc.loc[X_train, 'data_type'] = 'train'\n",
        "  doc.loc[X_val, 'data_type'] = 'val' \n",
        "  doc2.loc[X_train, 'data_type'] = 'train'\n",
        "  doc2.loc[X_val, 'data_type'] = 'val'\n",
        "\n",
        "  return doc,doc2"
      ],
      "execution_count": null,
      "outputs": []
    },
    {
      "cell_type": "markdown",
      "metadata": {
        "id": "zo7xmwJjMdCU"
      },
      "source": [
        "Bert"
      ]
    },
    {
      "cell_type": "code",
      "metadata": {
        "id": "ICz7UOXirxWR"
      },
      "source": [
        "def prep_doc_bert(document):\n",
        "    \n",
        "  doc = pd.DataFrame(columns=['report'])\n",
        "    \n",
        "  for i in range(len(document)):\n",
        "       \n",
        "      if isNaN(document.report[i]):\n",
        "          continue\n",
        "      isReliable, textBytesFound, details=cld2.detect(document.report[i])\n",
        "      \n",
        "      if not isReliable:\n",
        "                  continue\n",
        "      if details[0][0]!='ENGLISH':\n",
        "          continue\n",
        "      \n",
        "      txt=acronyms_to_words (document.report[i])\n",
        "      doc=doc.append({'report': txt},ignore_index=True)\n",
        "  return doc"
      ],
      "execution_count": null,
      "outputs": []
    },
    {
      "cell_type": "code",
      "metadata": {
        "id": "V03WPd11rxZc",
        "colab": {
          "base_uri": "https://localhost:8080/"
        },
        "outputId": "2d0c9ef9-37ac-46c5-88d5-cf9f79c39180"
      },
      "source": [
        "%%time\n",
        "doc_bert=prep_doc_bert(document)"
      ],
      "execution_count": null,
      "outputs": [
        {
          "output_type": "stream",
          "text": [
            "CPU times: user 12.1 s, sys: 2.06 ms, total: 12.1 s\n",
            "Wall time: 12.1 s\n"
          ],
          "name": "stdout"
        }
      ]
    },
    {
      "cell_type": "code",
      "metadata": {
        "id": "UYAHnpx1rxcR"
      },
      "source": [
        "num_of_topics = 3\n",
        "#num_of_topics = 4\n",
        "#num_of_topics = 5\n",
        "#num_of_topics = 6"
      ],
      "execution_count": null,
      "outputs": []
    },
    {
      "cell_type": "code",
      "metadata": {
        "colab": {
          "base_uri": "https://localhost:8080/"
        },
        "id": "bPUi3MuVrxfm",
        "outputId": "84524330-cdf0-48c6-d0ec-e8714e0d1072"
      },
      "source": [
        "from sentence_transformers import SentenceTransformer\n",
        "model = SentenceTransformer('distilbert-base-nli-stsb-mean-tokens')"
      ],
      "execution_count": null,
      "outputs": [
        {
          "output_type": "stream",
          "text": [
            "100%|██████████| 245M/245M [00:13<00:00, 18.6MB/s]\n"
          ],
          "name": "stderr"
        }
      ]
    },
    {
      "cell_type": "code",
      "metadata": {
        "colab": {
          "base_uri": "https://localhost:8080/"
        },
        "id": "SvLPpiUuwJer",
        "outputId": "a00a5cb5-9f81-460e-daaf-775e91eed215"
      },
      "source": [
        "print(model.get_max_seq_length())\n",
        "model.max_seq_length = 512\n",
        "print(model.get_max_seq_length())"
      ],
      "execution_count": null,
      "outputs": [
        {
          "output_type": "stream",
          "text": [
            "128\n",
            "512\n"
          ],
          "name": "stdout"
        }
      ]
    },
    {
      "cell_type": "code",
      "metadata": {
        "colab": {
          "base_uri": "https://localhost:8080/"
        },
        "id": "sf-d8nCwwnlg",
        "outputId": "45d65081-3a4f-474c-d4be-5872f88d6292"
      },
      "source": [
        "type(list(doc_bert.report))"
      ],
      "execution_count": null,
      "outputs": [
        {
          "output_type": "execute_result",
          "data": {
            "text/plain": [
              "list"
            ]
          },
          "metadata": {
            "tags": []
          },
          "execution_count": 19
        }
      ]
    },
    {
      "cell_type": "code",
      "metadata": {
        "colab": {
          "base_uri": "https://localhost:8080/",
          "height": 66,
          "referenced_widgets": [
            "17aaed76845c4c1a85973e9d537f9eaa",
            "14d1a12dd6914f56bbdc4e7dce5694d1",
            "2393dc81d611452e96f648bc0e740ccc",
            "f66af8ef13c04667a911ba1311390421",
            "2c097c3cc14e4bfa9ee5be7135de348e",
            "a552c93c503a45689ae8c6c3a11d3740",
            "499cb4779da8458bbf3e11f4266d764b",
            "223d7b499edd4a4c98775c8556112d73"
          ]
        },
        "id": "Rd5cDuE0wb1x",
        "outputId": "7a6f5f94-835d-4491-b7e7-ff691de03c1c"
      },
      "source": [
        "embeddings = model.encode(doc_bert.report, convert_to_tensor=True, show_progress_bar=True)"
      ],
      "execution_count": null,
      "outputs": [
        {
          "output_type": "display_data",
          "data": {
            "application/vnd.jupyter.widget-view+json": {
              "model_id": "17aaed76845c4c1a85973e9d537f9eaa",
              "version_minor": 0,
              "version_major": 2
            },
            "text/plain": [
              "HBox(children=(FloatProgress(value=0.0, description='Batches', max=105.0, style=ProgressStyle(description_widt…"
            ]
          },
          "metadata": {
            "tags": []
          }
        },
        {
          "output_type": "stream",
          "text": [
            "\n"
          ],
          "name": "stdout"
        }
      ]
    },
    {
      "cell_type": "code",
      "metadata": {
        "id": "6z5_Gf4t0zkg"
      },
      "source": [
        "embeddings_vec= np.array(embeddings)"
      ],
      "execution_count": null,
      "outputs": []
    },
    {
      "cell_type": "code",
      "metadata": {
        "colab": {
          "base_uri": "https://localhost:8080/"
        },
        "id": "LaP_PUDV87EV",
        "outputId": "f3e9b330-0b61-4893-dea7-81b9787f8686"
      },
      "source": [
        "embeddings_vec.shape"
      ],
      "execution_count": null,
      "outputs": [
        {
          "output_type": "execute_result",
          "data": {
            "text/plain": [
              "(3358, 768)"
            ]
          },
          "metadata": {
            "tags": []
          },
          "execution_count": 39
        }
      ]
    },
    {
      "cell_type": "markdown",
      "metadata": {
        "id": "I7d9dXK1-2oY"
      },
      "source": [
        "LDA"
      ]
    },
    {
      "cell_type": "code",
      "metadata": {
        "id": "S0y-uEcd-7Ub"
      },
      "source": [
        "doc_no_risk_tok = pd.read_csv(\"/content/doc_no_risk_tok.csv\")\n",
        "doc_lda=[txt.split() for txt in doc_no_risk_tok.report]"
      ],
      "execution_count": null,
      "outputs": []
    },
    {
      "cell_type": "code",
      "metadata": {
        "id": "ap7te80X-4rV"
      },
      "source": [
        "id2word = corpora.Dictionary(doc_lda)\n",
        "corpus = [id2word.doc2bow(text) for text in doc_lda]\n",
        "tfidf_model = models.TfidfModel(corpus)\n",
        "tfidf_corpus=[tfidf_model[text] for text in corpus]"
      ],
      "execution_count": null,
      "outputs": []
    },
    {
      "cell_type": "code",
      "metadata": {
        "colab": {
          "base_uri": "https://localhost:8080/"
        },
        "id": "H2E3WqcfEEyD",
        "outputId": "a1b1cd58-49aa-426f-eee1-1138e753b69a"
      },
      "source": [
        "tfidf_corpus\n",
        "print(embeddings_vec)"
      ],
      "execution_count": null,
      "outputs": [
        {
          "output_type": "stream",
          "text": [
            "[[ 0.30562615  0.23621218  0.43556255 ...  0.29496714  0.62751436\n",
            "  -0.00754754]\n",
            " [-0.7205443   0.04740383  0.6475415  ...  0.18191497 -0.02332224\n",
            "  -0.14723326]\n",
            " [ 0.9370104   0.3256255   0.9854007  ...  0.27092984 -0.31653997\n",
            "   0.79834664]\n",
            " ...\n",
            " [-0.05597919 -0.01685948  1.0711968  ... -0.09011391  0.21681225\n",
            "  -0.26363635]\n",
            " [ 0.2531593  -0.21130592  1.0195907  ... -0.23946472  0.40824407\n",
            "  -0.19727124]\n",
            " [ 0.16316736 -0.16641758  0.7211894  ... -0.11973397 -0.04199033\n",
            "  -0.49836016]]\n"
          ],
          "name": "stdout"
        }
      ]
    },
    {
      "cell_type": "code",
      "metadata": {
        "id": "la0BN1GkIqZu"
      },
      "source": [
        "num_of_topics = 3\n",
        "#num_of_topics = 4\n",
        "#num_of_topics = 5\n",
        "#num_of_topics = 6\n",
        "\n",
        "corpus_lda=tfidf_corpus\n",
        "#corpus_lda=embeddings_vec\n",
        "lda_model = gensim.models.ldamodel.LdaModel(corpus=corpus_lda,\n",
        "                                           id2word=id2word,\n",
        "                                           num_topics=num_of_topics, \n",
        "                                           random_state=42,\n",
        "                                           update_every=1,\n",
        "                                           chunksize=100,\n",
        "                                           passes=10,\n",
        "                                           alpha='auto',\n",
        "                                           per_word_topics=True)\n",
        "\n"
      ],
      "execution_count": null,
      "outputs": []
    },
    {
      "cell_type": "code",
      "metadata": {
        "id": "uzB-m0BzE0O8"
      },
      "source": [
        "#LDA vector representation \n",
        "\n",
        "def get_lda_vec(model, corpus, k):\n",
        "  n_doc = len(corpus)\n",
        "  lda_vec = np.zeros((n_doc, k))\n",
        "  for i in range(n_doc):\n",
        "      for topic, prob in model.get_document_topics(corpus[i]):\n",
        "          lda_vec[i, topic] = prob\n",
        "\n",
        "  return lda_vec\n"
      ],
      "execution_count": null,
      "outputs": []
    },
    {
      "cell_type": "code",
      "metadata": {
        "id": "8BsA017tE0SP"
      },
      "source": [
        "lda_vec = get_lda_vec(lda_model, corpus_lda, num_of_topics)"
      ],
      "execution_count": null,
      "outputs": []
    },
    {
      "cell_type": "code",
      "metadata": {
        "id": "7UxOnQjXE0V6"
      },
      "source": [
        "lda_gamma = 1000  # parameter for reletive importance of lda\n",
        "\n",
        "lda_bert_vec = np.c_[lda_vec * lda_gamma, embeddings_vec]"
      ],
      "execution_count": null,
      "outputs": []
    },
    {
      "cell_type": "markdown",
      "metadata": {
        "id": "kuX1Hxa3MSiM"
      },
      "source": [
        "**K-means**"
      ]
    },
    {
      "cell_type": "code",
      "metadata": {
        "id": "amM4WUCVMC4l"
      },
      "source": [
        "#k_means = KMeans(n_clusters=num_of_topics)\n",
        "#k_means.fit(embeddings_vec)\n",
        "#k_means.fit(lda_vec)\n",
        "k_means.fit(lda_bert_vec)\n",
        "clusters = k_means.labels_\n",
        "\n",
        "# Create list of all sentences in the cluster\n",
        "#clustered_sentences = [[] for i in range(num_of_topics)]\n",
        "#for sentence_id, cluster_id in enumerate(clusters):\n",
        "#    clustered_sentences[cluster_id].append(doc_bert[sentence_id])"
      ],
      "execution_count": null,
      "outputs": []
    },
    {
      "cell_type": "markdown",
      "metadata": {
        "id": "78uDR1XWNlLP"
      },
      "source": [
        "GRAPH REPRESENTATION"
      ]
    },
    {
      "cell_type": "code",
      "metadata": {
        "colab": {
          "base_uri": "https://localhost:8080/"
        },
        "id": "5Y8WuxVINc3C",
        "outputId": "07ba957f-80bb-44fc-837f-07438b2179b5"
      },
      "source": [
        "%%time\n",
        "#umap_data = umap.UMAP(n_neighbors=15, n_components=2, min_dist=0.0, metric='cosine').fit_transform(embeddings_vec)\n",
        "#umap_data = umap.UMAP(n_neighbors=15, n_components=2, min_dist=0.0, metric='cosine').fit_transform(lda_vec)\n",
        "umap_data = umap.UMAP(n_neighbors=15, n_components=2, min_dist=0.0, metric='cosine').fit_transform(lda_bert_vec)"
      ],
      "execution_count": null,
      "outputs": [
        {
          "output_type": "stream",
          "text": [
            "CPU times: user 30.2 s, sys: 190 ms, total: 30.3 s\n",
            "Wall time: 23 s\n"
          ],
          "name": "stdout"
        }
      ]
    },
    {
      "cell_type": "code",
      "metadata": {
        "id": "uo2a-qx9N0kv"
      },
      "source": [
        "result = pd.DataFrame(umap_data, columns=['x', 'y'])\n",
        "result['labels'] = k_means.labels_\n",
        "#tempResult = result\n",
        "#tempResult['labels'].unique()"
      ],
      "execution_count": null,
      "outputs": []
    },
    {
      "cell_type": "code",
      "metadata": {
        "colab": {
          "base_uri": "https://localhost:8080/",
          "height": 485
        },
        "id": "KjOnjjhQOYtO",
        "outputId": "7918dee7-1695-4098-ef3a-311072b8bf7a"
      },
      "source": [
        "# Plot reduced vector to check how number of clousters  works\n",
        "fig, ax = plt.subplots(figsize=(20, 10))\n",
        "clustered = result.loc[result.labels > -1, :]\n",
        "#clustered = result.loc[result.labels != -1, :]\n",
        "#clustered[:50]\n",
        "plt.scatter(clustered.x, clustered.y, c=clustered.labels, cmap='hsv_r')\n",
        "# male tocke s=0.05 plt.scatter(clustered.x, clustered.y, c=clustered.labels, s=0.05, cmap='hsv_r')\n",
        "plt.colorbar()"
      ],
      "execution_count": null,
      "outputs": [
        {
          "output_type": "execute_result",
          "data": {
            "text/plain": [
              "<matplotlib.colorbar.Colorbar at 0x7ff661d51d68>"
            ]
          },
          "metadata": {
            "tags": []
          },
          "execution_count": 114
        },
        {
          "output_type": "display_data",
          "data": {
            "image/png": "[encoded data removed]",
            "text/plain": [
              "<Figure size 1440x720 with 2 Axes>"
            ]
          },
          "metadata": {
            "tags": [],
            "needs_background": "light"
          }
        }
      ]
    },
    {
      "cell_type": "code",
      "metadata": {
        "colab": {
          "base_uri": "https://localhost:8080/",
          "height": 422
        },
        "id": "6uiRmOaVOlt7",
        "outputId": "f8ebfda4-ebb8-41ed-b94c-88d827b0dcf8"
      },
      "source": [
        "# My version for Plot reduced vector to check how number of clousters  works\n",
        "fig, ax = plt.subplots(figsize=(20, 10))\n",
        "\n",
        "colors={0:'b',1:'g',2:'r',3:'c', 4:'m', 5: 'y', 6: 'k'}\n",
        "\n",
        "resultArray = result.to_numpy()\n",
        "for i in resultArray:\n",
        "    x= i[0]\n",
        "    y= i[1]\n",
        "    l= i[2]\n",
        "    #if  l==0 or l==1 or l== 2 orl==3:\n",
        "    plt.scatter(x, y, color=colors[l] )\n"
      ],
      "execution_count": null,
      "outputs": [
        {
          "output_type": "display_data",
          "data": {
            "image/png": "[encoded data removed]",
            "text/plain": [
              "<Figure size 1440x720 with 1 Axes>"
            ]
          },
          "metadata": {
            "tags": [],
            "needs_background": "light"
          }
        }
      ]
    },
    {
      "cell_type": "code",
      "metadata": {
        "colab": {
          "base_uri": "https://localhost:8080/"
        },
        "id": "hmKnMrJzVitA",
        "outputId": "765d43b8-8956-494d-f62d-74e62e193641"
      },
      "source": [
        "collections.Counter(k_means.labels_)"
      ],
      "execution_count": null,
      "outputs": [
        {
          "output_type": "execute_result",
          "data": {
            "text/plain": [
              "Counter({0: 358, 1: 2953, 2: 47})"
            ]
          },
          "metadata": {
            "tags": []
          },
          "execution_count": 116
        }
      ]
    },
    {
      "cell_type": "code",
      "metadata": {
        "colab": {
          "base_uri": "https://localhost:8080/"
        },
        "id": "Qn9jUSONUiR0",
        "outputId": "6d8214f4-bcb6-4781-a8b1-c178de465e99"
      },
      "source": [
        "k_means_silhouette = silhouette_score(lda_bert_vec, k_means.labels_).round(2)\n",
        "#k_means_silhouette = silhouette_score(embeddings_vec, k_means.labels_).round(2)\n",
        "#k_means_silhouette = silhouette_score(lda_vec, k_means.labels_).round(2)\n",
        "k_means_silhouette"
      ],
      "execution_count": null,
      "outputs": [
        {
          "output_type": "execute_result",
          "data": {
            "text/plain": [
              "0.97"
            ]
          },
          "metadata": {
            "tags": []
          },
          "execution_count": 117
        }
      ]
    },
    {
      "cell_type": "markdown",
      "metadata": {
        "id": "oi0WX9bia3I8"
      },
      "source": [
        "Najbolji rezultat:\n",
        "num_of_topic = 3, lda_gamma=60, silhouette=0.69\n",
        "num_of_topic = 4, lda_gamma=100, silhouette=0.23"
      ]
    },
    {
      "cell_type": "code",
      "metadata": {
        "colab": {
          "base_uri": "https://localhost:8080/",
          "height": 1000
        },
        "id": "kyUFBJhHboKO",
        "outputId": "a1819fc7-a0d2-414c-d38a-58fe7203c18c"
      },
      "source": [
        "x=umap_data\n",
        "wcss = []\n",
        "for i in range(1, 11):\n",
        "    kmeans = KMeans(n_clusters = i, init = 'k-means++', max_iter = 300, n_init = 10, random_state = 42)\n",
        "    kmeans.fit(x)\n",
        "    wcss.append(kmeans.inertia_)\n",
        "\n",
        "\n",
        "plt.plot(range(1, 11), wcss)\n",
        "plt.title('The elbow method')\n",
        "plt.xlabel('Number of clusters')\n",
        "plt.ylabel('WCSS') #within cluster sum of squares\n",
        "plt.rcParams[\"figure.figsize\"] = (10,20)\n",
        "plt.show()\n",
        "print (wcss)"
      ],
      "execution_count": null,
      "outputs": [
        {
          "output_type": "display_data",
          "data": {
            "image/png": "[encoded data removed]",
            "text/plain": [
              "<Figure size 720x1440 with 1 Axes>"
            ]
          },
          "metadata": {
            "tags": [],
            "needs_background": "light"
          }
        },
        {
          "output_type": "stream",
          "text": [
            "[159892.86, 55548.41609379338, 22570.648858618668, 14914.857631894552, 9942.936821384352, 5739.980606580124, 4517.23995607335, 3539.2545868450575, 2851.5288525417163, 2391.27241089232]\n"
          ],
          "name": "stdout"
        }
      ]
    },
    {
      "cell_type": "markdown",
      "metadata": {
        "id": "lLNHhKmh8I0K"
      },
      "source": [
        "Rezultati:"
      ]
    },
    {
      "cell_type": "markdown",
      "metadata": {
        "id": "x0lYAlnR8WX4"
      },
      "source": [
        " num_of_topics = 3, gamma=100, lda_bert_vec **0.86**, elbow = **3**"
      ]
    },
    {
      "cell_type": "markdown",
      "metadata": {
        "id": "p_LfTgYq8dt-"
      },
      "source": [
        "num_of_topics = 3, lda_vec **0.98**, elbow = **4,5,prije 5 nego 4**"
      ]
    },
    {
      "cell_type": "markdown",
      "metadata": {
        "id": "YDq3GgPQ8jHu"
      },
      "source": [
        "num_of_topics = 3, bert_vec **0.00**, elbow = **3**"
      ]
    }
  ]
}