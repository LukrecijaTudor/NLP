{
 "cells": [
  {
   "cell_type": "code",
   "execution_count": 14,
   "metadata": {},
   "outputs": [
    {
     "name": "stderr",
     "output_type": "stream",
     "text": [
      "/Users/Lukre/anaconda3/lib/python3.7/site-packages/ipykernel/ipkernel.py:287: DeprecationWarning: `should_run_async` will not call `transform_cell` automatically in the future. Please pass the result to `transformed_cell` argument and any exception that happen during thetransform in `preprocessing_exc_tuple` in IPython 7.17 and above.\n",
      "  and should_run_async(code)\n"
     ]
    },
    {
     "name": "stdout",
     "output_type": "stream",
     "text": [
      "CPU times: user 26.4 s, sys: 536 ms, total: 26.9 s\n",
      "Wall time: 27.4 s\n"
     ]
    }
   ],
   "source": [
    "%%time\n",
    "import pandas as pd\n",
    "import numpy as np\n",
    "import gensim\n",
    "from gensim.models import CoherenceModel\n",
    "from sklearn.model_selection import train_test_split\n",
    "from sklearn.ensemble import RandomForestClassifier\n",
    "from statistics import mean\n",
    "from sklearn.metrics.pairwise import cosine_similarity\n",
    "from scipy.spatial import distance\n",
    "from gensim.matutils import softcossim\n",
    "import collections\n",
    "import math\n",
    "import nltk\n",
    "lemma = nltk.wordnet.WordNetLemmatizer()\n",
    "#python -m pip install -U pycld2\n",
    "import pycld2 as cld2\n",
    "import spacy\n",
    "sp = spacy.load(\"en\")\n",
    "sp_stopwords=sp.Defaults.stop_words\n",
    "import pyLDAvis\n",
    "import pyLDAvis.gensim\n",
    "import matplotlib.pyplot as plt\n",
    "%matplotlib inline\n",
    "import gensim.downloader as api\n",
    "from gensim import corpora,models\n",
    "from gensim.models import WordEmbeddingSimilarityIndex\n",
    "from gensim.similarities import SparseTermSimilarityMatrix\n",
    "w2v_model = api.load(\"glove-wiki-gigaword-50\")"
   ]
  },
  {
   "cell_type": "markdown",
   "metadata": {},
   "source": [
    "Učitavanje dokumenata"
   ]
  },
  {
   "cell_type": "code",
   "execution_count": 15,
   "metadata": {},
   "outputs": [
    {
     "name": "stderr",
     "output_type": "stream",
     "text": [
      "/Users/Lukre/anaconda3/lib/python3.7/site-packages/ipykernel/ipkernel.py:287: DeprecationWarning: `should_run_async` will not call `transform_cell` automatically in the future. Please pass the result to `transformed_cell` argument and any exception that happen during thetransform in `preprocessing_exc_tuple` in IPython 7.17 and above.\n",
      "  and should_run_async(code)\n",
      "/Users/Lukre/anaconda3/lib/python3.7/site-packages/ipykernel_launcher.py:4: SettingWithCopyWarning: \n",
      "A value is trying to be set on a copy of a slice from a DataFrame\n",
      "\n",
      "See the caveats in the documentation: https://pandas.pydata.org/pandas-docs/stable/user_guide/indexing.html#returning-a-view-versus-a-copy\n",
      "  after removing the cwd from sys.path.\n",
      "/Users/Lukre/anaconda3/lib/python3.7/site-packages/ipykernel_launcher.py:9: SettingWithCopyWarning: \n",
      "A value is trying to be set on a copy of a slice from a DataFrame\n",
      "\n",
      "See the caveats in the documentation: https://pandas.pydata.org/pandas-docs/stable/user_guide/indexing.html#returning-a-view-versus-a-copy\n",
      "  if __name__ == '__main__':\n"
     ]
    }
   ],
   "source": [
    "doc_risk_str=pd.read_csv('/Users/Lukre/Desktop/D_dipl/doc_risk_str.csv',index_col=0)\n",
    "doc_risk_tok=pd.read_csv('/Users/Lukre/Desktop/D_dipl/doc_risk_tok.csv',index_col=0)\n",
    "for i in range(len(doc_risk_tok)):\n",
    "    doc_risk_tok.report[i]=str(doc_risk_str.report[i]).split()\n",
    "\n",
    "doc_no_risk_str=pd.read_csv('/Users/Lukre/Desktop/D_dipl/doc_no_risk_str.csv',index_col=0)\n",
    "doc_no_risk_tok=pd.read_csv('/Users/Lukre/Desktop/D_dipl/doc_no_risk_tok.csv',index_col=0)\n",
    "for i in range(len(doc_no_risk_tok)):\n",
    "    doc_no_risk_tok.report[i]=str(doc_no_risk_str.report[i]).split()\n",
    "\n",
    "pdoc_risk=pd.read_csv('/Users/Lukre/Desktop/D_dipl/pdoc_risk.csv',index_col=0)\n",
    "tokens_risk=pd.read_csv('/Users/Lukre/Desktop/D_dipl/tokens_risk.csv',index_col=0)\n",
    "pdoc_no_risk=pd.read_csv('/Users/Lukre/Desktop/D_dipl/pdoc_no_risk.csv',index_col=0)\n",
    "tokens_no_risk=pd.read_csv('/Users/Lukre/Desktop/D_dipl/tokens_no_risk.csv',index_col=0)\n",
    "sparse_risk=pd.read_csv('/Users/Lukre/Desktop/D_dipl/sparse_risk.csv',index_col=0)\n",
    "sparse_no_risk=pd.read_csv('/Users/Lukre/Desktop/D_dipl/sparse_no_risk.csv',index_col=0)\n",
    "pdoc_risk_red=pd.read_csv('/Users/Lukre/Desktop/D_dipl/pdoc_risk_red.csv',index_col=0)\n",
    "tokens_risk_red=pd.read_csv('/Users/Lukre/Desktop/D_dipl/tokens_risk_red.csv',index_col=0)\n",
    "ejected_tokens_risk=pd.read_csv('/Users/Lukre/Desktop/D_dipl/ejected_tokens_risk.csv',index_col=0)\n",
    "pdoc_no_risk_red=pd.read_csv('/Users/Lukre/Desktop/D_dipl/pdoc_no_risk_red.csv',index_col=0)\n",
    "tokens_no_risk_red=pd.read_csv('/Users/Lukre/Desktop/D_dipl/tokens_no_risk_red.csv',index_col=0)\n",
    "ejected_tokens_no_risk=pd.read_csv('/Users/Lukre/Desktop/D_dipl/ejected_tokens_no_risk.csv',index_col=0)\n",
    "sparse_risk_red=pd.read_csv('/Users/Lukre/Desktop/D_dipl/sparse_risk_red.csv',index_col=0)\n",
    "sparse_no_risk_red=pd.read_csv('/Users/Lukre/Desktop/D_dipl/sparse_no_risk_red.csv',index_col=0)"
   ]
  },
  {
   "cell_type": "markdown",
   "metadata": {},
   "source": [
    "Fja vraća 5 najsličnijih dokumenata po cosinusu (vraća: ID i sličnost)"
   ]
  },
  {
   "cell_type": "code",
   "execution_count": 17,
   "metadata": {},
   "outputs": [
    {
     "name": "stderr",
     "output_type": "stream",
     "text": [
      "/Users/Lukre/anaconda3/lib/python3.7/site-packages/ipykernel/ipkernel.py:287: DeprecationWarning: `should_run_async` will not call `transform_cell` automatically in the future. Please pass the result to `transformed_cell` argument and any exception that happen during thetransform in `preprocessing_exc_tuple` in IPython 7.17 and above.\n",
      "  and should_run_async(code)\n"
     ]
    }
   ],
   "source": [
    "def five_most_similar(xx,sparse):\n",
    "    xx_5=[0, 1, 2, 3, 4]\n",
    "    maxi=[0,0,0,0,0]\n",
    "    for row in sparse.index:\n",
    "        if (row[0]==xx):\n",
    "            continue\n",
    "        pom=distance.cosine(sparse.loc[xx],sparse.loc[row[0]])\n",
    "        pom=1-pom\n",
    "        for j in range(5):\n",
    "            if pom > maxi[j]:\n",
    "                maxi[j]=pom\n",
    "                xx_5[j]=row[0]\n",
    "                break\n",
    "    return xx_5, maxi  "
   ]
  },
  {
   "cell_type": "markdown",
   "metadata": {},
   "source": [
    "Fja prima:  \n",
    "&emsp;-tokenizirani dokument s izvještajima (prep_doc(risk,tok)) rijetku matricu matricu i oznaku 'cos' za Cosine similarity i proizvoljni string za SoftCosine similarity  \n",
    "  \n",
    "  Fja vraća:  \n",
    "&emsp;-konfiguracijsku matricu i evaluacijske vrijednosti: Precision, Recall i F1 score"
   ]
  },
  {
   "cell_type": "code",
   "execution_count": 18,
   "metadata": {},
   "outputs": [
    {
     "name": "stderr",
     "output_type": "stream",
     "text": [
      "/Users/Lukre/anaconda3/lib/python3.7/site-packages/ipykernel/ipkernel.py:287: DeprecationWarning: `should_run_async` will not call `transform_cell` automatically in the future. Please pass the result to `transformed_cell` argument and any exception that happen during thetransform in `preprocessing_exc_tuple` in IPython 7.17 and above.\n",
      "  and should_run_async(code)\n"
     ]
    }
   ],
   "source": [
    "def cos_evaluation(doc_tok,sparse,cosin='cos',rnd=42,label='label'):\n",
    "    \n",
    "    if (label=='label'):\n",
    "        X_train, X_val, y_train, y_val = train_test_split(doc_tok.index.values, \n",
    "                                                  doc_tok.label.values, \n",
    "                                                  test_size=0.2, \n",
    "                                                  random_state=rnd, \n",
    "                                                  stratify=doc_tok.label.values)\n",
    "    elif (label=='accident'):\n",
    "        X_train, X_val, y_train, y_val = train_test_split(doc_tok.index.values, \n",
    "                                                  doc_tok.accident.values, \n",
    "                                                  test_size=0.2, \n",
    "                                                  random_state=rnd, \n",
    "                                                  stratify=doc_tok.accident.values)\n",
    "    \n",
    "    doc_tok['data_type'] = ['not_set']*doc_tok.shape[0]\n",
    "\n",
    "    doc_tok.loc[X_train, 'data_type'] = 'train'\n",
    "    doc_tok.loc[X_val, 'data_type'] = 'val'\n",
    "\n",
    "    if (label=='label'):\n",
    "        doc_tok.groupby(['label', 'data_type']).count()\n",
    "    elif (label=='accident'):\n",
    "        doc_tok.groupby(['accident','data_type']).count()\n",
    "\n",
    "    CosSim_results=pd.DataFrame(columns=['Precision','Recall','F1-score'],index=['Value'])\n",
    "    zero = np.zeros(shape=(3,3))\n",
    "    if (label=='label'):\n",
    "        conf_matrix=pd.DataFrame(zero,columns=[0,1,2],index=[0,1,2])\n",
    "    elif (label=='accident'):\n",
    "        conf_matrix=pd.DataFrame(zero,columns=['no accident outcome','minor injuries or damage',\n",
    "                                              'major or catastrophic accident'],\n",
    "                                index=['no accident outcome','minor injuries or damage',\n",
    "                                              'major or catastrophic accident'])\n",
    "    \n",
    "    if (cosin!='cos'):\n",
    "        sentences = [x for x in doc_tok.report]\n",
    "        dictionary = corpora.Dictionary(sentences)\n",
    "        similarity_index = WordEmbeddingSimilarityIndex(w2v_model)\n",
    "        similarity_matrix = SparseTermSimilarityMatrix(similarity_index, dictionary)\n",
    "        for i in range(len(sentences)):\n",
    "            sentences[i]=dictionary.doc2bow(sentences[i])\n",
    "\n",
    "    for i in range(len(X_val)):\n",
    "        maxi=0\n",
    "        pomj=0\n",
    "        \n",
    "        for j in range(len(X_train)):\n",
    "            if (cosin=='cos'):\n",
    "                pom=distance.cosine(sparse.loc[doc_tok.xx[X_val[i]]],sparse.loc[doc_tok.xx[X_train[j]]])\n",
    "                pom=1-pom\n",
    "            else: \n",
    "                pom=similarity_matrix.inner_product(sentences[X_val[i]], sentences[X_train[j]], normalized=True)\n",
    "            if pom > maxi:\n",
    "                maxi=pom\n",
    "                pomj=j\n",
    "        conf_matrix.loc[y_train[j]][y_val[i]]+=1\n",
    "        if (i%10==0):\n",
    "            print(i)\n",
    "            print (maxi)\n",
    "    \n",
    "    if (label=='label'):\n",
    "        p0=conf_matrix.loc[0][0]/(sum(conf_matrix.loc[0])+1)\n",
    "        p1=conf_matrix.loc[0][1]/(sum(conf_matrix.loc[1])+1)\n",
    "        p2=conf_matrix.loc[2][2]/(sum(conf_matrix.loc[2])+1)\n",
    "        r0=conf_matrix.loc[0][0]/(sum(conf_matrix[0])+1)\n",
    "        r1=conf_matrix.loc[1][1]/(sum(conf_matrix[1])+1)\n",
    "        r2=conf_matrix.loc[2][2]/(sum(conf_matrix[2])+1)\n",
    "        P=mean([p0,p1,p2])\n",
    "        R=mean([r0,r1,r2])\n",
    "        F1=(2*P*R)/(P+R)\n",
    "    elif(label=='accident'):\n",
    "        p0=conf_matrix.loc['no accident outcome']['no accident outcome']/(sum(conf_matrix.loc['no accident outcome'])+1)\n",
    "        p1=conf_matrix.loc['minor injuries or damage']['minor injuries or damage']/(sum(conf_matrix.loc['minor injuries or damage'])+1)\n",
    "        p2=conf_matrix.loc['major or catastrophic accident']['major or catastrophic accident']/(sum(conf_matrix.loc['major or catastrophic accident'])+1)\n",
    "        r0=conf_matrix.loc['no accident outcome']['no accident outcome']/(sum(conf_matrix['no accident outcome'])+1)\n",
    "        r1=conf_matrix.loc['minor injuries or damage']['minor injuries or damage']/(sum(conf_matrix['minor injuries or damage'])+1)\n",
    "        r2=conf_matrix.loc['major or catastrophic accident']['major or catastrophic accident']/(sum(conf_matrix['major or catastrophic accident'])+1)\n",
    "        P=mean([p0,p1,p2])\n",
    "        R=mean([r0,r1,r2])\n",
    "        F1=(2*P*R)/(P+R)      \n",
    "\n",
    "    CosSim_results.loc['Value']['Precision']=P\n",
    "    CosSim_results.loc['Value']['Recall']=R\n",
    "    CosSim_results.loc['Value']['F1-score']=F1\n",
    "    \n",
    "    return (CosSim_results,conf_matrix)"
   ]
  },
  {
   "cell_type": "markdown",
   "metadata": {},
   "source": [
    "Evaluacija cosinusom  \n",
    "&emsp;uvijek predviđa razinu 0  \n",
    "NE DAJE DOBRE REZULTATE"
   ]
  },
  {
   "cell_type": "code",
   "execution_count": 20,
   "metadata": {
    "scrolled": false
   },
   "outputs": [
    {
     "name": "stderr",
     "output_type": "stream",
     "text": [
      "/Users/Lukre/anaconda3/lib/python3.7/site-packages/ipykernel/ipkernel.py:287: DeprecationWarning: `should_run_async` will not call `transform_cell` automatically in the future. Please pass the result to `transformed_cell` argument and any exception that happen during thetransform in `preprocessing_exc_tuple` in IPython 7.17 and above.\n",
      "  and should_run_async(code)\n"
     ]
    },
    {
     "name": "stdout",
     "output_type": "stream",
     "text": [
      "0\n",
      "0.30561996406666836\n",
      "10\n",
      "0.3266733959487864\n",
      "20\n",
      "0.43002538827353165\n",
      "30\n",
      "0.41049273665922636\n",
      "40\n",
      "0.4102589350432827\n",
      "50\n",
      "0.4436050139136293\n",
      "60\n",
      "0.3070994385021175\n",
      "70\n",
      "0.3703631103054662\n",
      "80\n",
      "0.4166178232646125\n"
     ]
    },
    {
     "ename": "KeyboardInterrupt",
     "evalue": "",
     "output_type": "error",
     "traceback": [
      "\u001b[0;31m---------------------------------------------------------------------------\u001b[0m",
      "\u001b[0;31mKeyboardInterrupt\u001b[0m                         Traceback (most recent call last)",
      "\u001b[0;32m<timed eval>\u001b[0m in \u001b[0;36m<module>\u001b[0;34m\u001b[0m\n",
      "\u001b[0;32m<ipython-input-18-5d5eab77ea12>\u001b[0m in \u001b[0;36mcos_evaluation\u001b[0;34m(doc_tok, sparse, cosin, rnd, label)\u001b[0m\n\u001b[1;32m     48\u001b[0m         \u001b[0;32mfor\u001b[0m \u001b[0mj\u001b[0m \u001b[0;32min\u001b[0m \u001b[0mrange\u001b[0m\u001b[0;34m(\u001b[0m\u001b[0mlen\u001b[0m\u001b[0;34m(\u001b[0m\u001b[0mX_train\u001b[0m\u001b[0;34m)\u001b[0m\u001b[0;34m)\u001b[0m\u001b[0;34m:\u001b[0m\u001b[0;34m\u001b[0m\u001b[0;34m\u001b[0m\u001b[0m\n\u001b[1;32m     49\u001b[0m             \u001b[0;32mif\u001b[0m \u001b[0;34m(\u001b[0m\u001b[0mcosin\u001b[0m\u001b[0;34m==\u001b[0m\u001b[0;34m'cos'\u001b[0m\u001b[0;34m)\u001b[0m\u001b[0;34m:\u001b[0m\u001b[0;34m\u001b[0m\u001b[0;34m\u001b[0m\u001b[0m\n\u001b[0;32m---> 50\u001b[0;31m                 \u001b[0mpom\u001b[0m\u001b[0;34m=\u001b[0m\u001b[0mdistance\u001b[0m\u001b[0;34m.\u001b[0m\u001b[0mcosine\u001b[0m\u001b[0;34m(\u001b[0m\u001b[0msparse\u001b[0m\u001b[0;34m.\u001b[0m\u001b[0mloc\u001b[0m\u001b[0;34m[\u001b[0m\u001b[0mdoc_tok\u001b[0m\u001b[0;34m.\u001b[0m\u001b[0mxx\u001b[0m\u001b[0;34m[\u001b[0m\u001b[0mX_val\u001b[0m\u001b[0;34m[\u001b[0m\u001b[0mi\u001b[0m\u001b[0;34m]\u001b[0m\u001b[0;34m]\u001b[0m\u001b[0;34m]\u001b[0m\u001b[0;34m,\u001b[0m\u001b[0msparse\u001b[0m\u001b[0;34m.\u001b[0m\u001b[0mloc\u001b[0m\u001b[0;34m[\u001b[0m\u001b[0mdoc_tok\u001b[0m\u001b[0;34m.\u001b[0m\u001b[0mxx\u001b[0m\u001b[0;34m[\u001b[0m\u001b[0mX_train\u001b[0m\u001b[0;34m[\u001b[0m\u001b[0mj\u001b[0m\u001b[0;34m]\u001b[0m\u001b[0;34m]\u001b[0m\u001b[0;34m]\u001b[0m\u001b[0;34m)\u001b[0m\u001b[0;34m\u001b[0m\u001b[0;34m\u001b[0m\u001b[0m\n\u001b[0m\u001b[1;32m     51\u001b[0m                 \u001b[0mpom\u001b[0m\u001b[0;34m=\u001b[0m\u001b[0;36m1\u001b[0m\u001b[0;34m-\u001b[0m\u001b[0mpom\u001b[0m\u001b[0;34m\u001b[0m\u001b[0;34m\u001b[0m\u001b[0m\n\u001b[1;32m     52\u001b[0m             \u001b[0;32melse\u001b[0m\u001b[0;34m:\u001b[0m\u001b[0;34m\u001b[0m\u001b[0;34m\u001b[0m\u001b[0m\n",
      "\u001b[0;32m~/anaconda3/lib/python3.7/site-packages/pandas/core/series.py\u001b[0m in \u001b[0;36m__getitem__\u001b[0;34m(self, key)\u001b[0m\n\u001b[1;32m    880\u001b[0m \u001b[0;34m\u001b[0m\u001b[0m\n\u001b[1;32m    881\u001b[0m         \u001b[0;32melif\u001b[0m \u001b[0mkey_is_scalar\u001b[0m\u001b[0;34m:\u001b[0m\u001b[0;34m\u001b[0m\u001b[0;34m\u001b[0m\u001b[0m\n\u001b[0;32m--> 882\u001b[0;31m             \u001b[0;32mreturn\u001b[0m \u001b[0mself\u001b[0m\u001b[0;34m.\u001b[0m\u001b[0m_get_value\u001b[0m\u001b[0;34m(\u001b[0m\u001b[0mkey\u001b[0m\u001b[0;34m)\u001b[0m\u001b[0;34m\u001b[0m\u001b[0;34m\u001b[0m\u001b[0m\n\u001b[0m\u001b[1;32m    883\u001b[0m \u001b[0;34m\u001b[0m\u001b[0m\n\u001b[1;32m    884\u001b[0m         \u001b[0;32mif\u001b[0m \u001b[0mis_hashable\u001b[0m\u001b[0;34m(\u001b[0m\u001b[0mkey\u001b[0m\u001b[0;34m)\u001b[0m\u001b[0;34m:\u001b[0m\u001b[0;34m\u001b[0m\u001b[0;34m\u001b[0m\u001b[0m\n",
      "\u001b[0;32m~/anaconda3/lib/python3.7/site-packages/pandas/core/series.py\u001b[0m in \u001b[0;36m_get_value\u001b[0;34m(self, label, takeable)\u001b[0m\n\u001b[1;32m    987\u001b[0m \u001b[0;34m\u001b[0m\u001b[0m\n\u001b[1;32m    988\u001b[0m         \u001b[0;31m# Similar to Index.get_value, but we do not fall back to positional\u001b[0m\u001b[0;34m\u001b[0m\u001b[0;34m\u001b[0m\u001b[0;34m\u001b[0m\u001b[0m\n\u001b[0;32m--> 989\u001b[0;31m         \u001b[0mloc\u001b[0m \u001b[0;34m=\u001b[0m \u001b[0mself\u001b[0m\u001b[0;34m.\u001b[0m\u001b[0mindex\u001b[0m\u001b[0;34m.\u001b[0m\u001b[0mget_loc\u001b[0m\u001b[0;34m(\u001b[0m\u001b[0mlabel\u001b[0m\u001b[0;34m)\u001b[0m\u001b[0;34m\u001b[0m\u001b[0;34m\u001b[0m\u001b[0m\n\u001b[0m\u001b[1;32m    990\u001b[0m         \u001b[0;32mreturn\u001b[0m \u001b[0mself\u001b[0m\u001b[0;34m.\u001b[0m\u001b[0mindex\u001b[0m\u001b[0;34m.\u001b[0m\u001b[0m_get_values_for_loc\u001b[0m\u001b[0;34m(\u001b[0m\u001b[0mself\u001b[0m\u001b[0;34m,\u001b[0m \u001b[0mloc\u001b[0m\u001b[0;34m,\u001b[0m \u001b[0mlabel\u001b[0m\u001b[0;34m)\u001b[0m\u001b[0;34m\u001b[0m\u001b[0;34m\u001b[0m\u001b[0m\n\u001b[1;32m    991\u001b[0m \u001b[0;34m\u001b[0m\u001b[0m\n",
      "\u001b[0;32m~/anaconda3/lib/python3.7/site-packages/pandas/core/indexes/base.py\u001b[0m in \u001b[0;36mget_loc\u001b[0;34m(self, key, method, tolerance)\u001b[0m\n\u001b[1;32m   2893\u001b[0m             \u001b[0mcasted_key\u001b[0m \u001b[0;34m=\u001b[0m \u001b[0mself\u001b[0m\u001b[0;34m.\u001b[0m\u001b[0m_maybe_cast_indexer\u001b[0m\u001b[0;34m(\u001b[0m\u001b[0mkey\u001b[0m\u001b[0;34m)\u001b[0m\u001b[0;34m\u001b[0m\u001b[0;34m\u001b[0m\u001b[0m\n\u001b[1;32m   2894\u001b[0m             \u001b[0;32mtry\u001b[0m\u001b[0;34m:\u001b[0m\u001b[0;34m\u001b[0m\u001b[0;34m\u001b[0m\u001b[0m\n\u001b[0;32m-> 2895\u001b[0;31m                 \u001b[0;32mreturn\u001b[0m \u001b[0mself\u001b[0m\u001b[0;34m.\u001b[0m\u001b[0m_engine\u001b[0m\u001b[0;34m.\u001b[0m\u001b[0mget_loc\u001b[0m\u001b[0;34m(\u001b[0m\u001b[0mcasted_key\u001b[0m\u001b[0;34m)\u001b[0m\u001b[0;34m\u001b[0m\u001b[0;34m\u001b[0m\u001b[0m\n\u001b[0m\u001b[1;32m   2896\u001b[0m             \u001b[0;32mexcept\u001b[0m \u001b[0mKeyError\u001b[0m \u001b[0;32mas\u001b[0m \u001b[0merr\u001b[0m\u001b[0;34m:\u001b[0m\u001b[0;34m\u001b[0m\u001b[0;34m\u001b[0m\u001b[0m\n\u001b[1;32m   2897\u001b[0m                 \u001b[0;32mraise\u001b[0m \u001b[0mKeyError\u001b[0m\u001b[0;34m(\u001b[0m\u001b[0mkey\u001b[0m\u001b[0;34m)\u001b[0m \u001b[0;32mfrom\u001b[0m \u001b[0merr\u001b[0m\u001b[0;34m\u001b[0m\u001b[0;34m\u001b[0m\u001b[0m\n",
      "\u001b[0;31mKeyboardInterrupt\u001b[0m: "
     ]
    }
   ],
   "source": [
    "%%time\n",
    "cos_evaluation(doc_risk_tok,sparse_risk_red,label='accident')\n",
    "\n",
    "## ovom metodom predvidi se uvijek razina 0  -nije dobro\n",
    "# međutim primjetne su veće sličnosti nego prije reduciranja rijetkih tokena"
   ]
  },
  {
   "cell_type": "markdown",
   "metadata": {},
   "source": [
    "Random Forest Classifier    -scikit learn    \n",
    "&emsp;accident"
   ]
  },
  {
   "cell_type": "code",
   "execution_count": 23,
   "metadata": {
    "scrolled": true
   },
   "outputs": [
    {
     "name": "stderr",
     "output_type": "stream",
     "text": [
      "/Users/Lukre/anaconda3/lib/python3.7/site-packages/ipykernel/ipkernel.py:287: DeprecationWarning: `should_run_async` will not call `transform_cell` automatically in the future. Please pass the result to `transformed_cell` argument and any exception that happen during thetransform in `preprocessing_exc_tuple` in IPython 7.17 and above.\n",
      "  and should_run_async(code)\n"
     ]
    },
    {
     "name": "stdout",
     "output_type": "stream",
     "text": [
      "                                no accident outcome  minor injuries or damage  \\\n",
      "no accident outcome                            77.0                      78.0   \n",
      "minor injuries or damage                      103.0                     231.0   \n",
      "major or catastrophic accident                  4.0                      13.0   \n",
      "\n",
      "                                major or catastrophic accident  \n",
      "no accident outcome                                       16.0  \n",
      "minor injuries or damage                                  43.0  \n",
      "major or catastrophic accident                             8.0  \n",
      "                                no accident outcome  minor injuries or damage  \\\n",
      "no accident outcome                            84.0                      78.0   \n",
      "minor injuries or damage                       97.0                     233.0   \n",
      "major or catastrophic accident                  3.0                      11.0   \n",
      "\n",
      "                                major or catastrophic accident  \n",
      "no accident outcome                                       18.0  \n",
      "minor injuries or damage                                  42.0  \n",
      "major or catastrophic accident                             7.0  \n",
      "                                no accident outcome  minor injuries or damage  \\\n",
      "no accident outcome                            91.0                      82.0   \n",
      "minor injuries or damage                       88.0                     235.0   \n",
      "major or catastrophic accident                  5.0                       5.0   \n",
      "\n",
      "                                major or catastrophic accident  \n",
      "no accident outcome                                       14.0  \n",
      "minor injuries or damage                                  48.0  \n",
      "major or catastrophic accident                             5.0  \n",
      "                                no accident outcome  minor injuries or damage  \\\n",
      "no accident outcome                            86.0                      77.0   \n",
      "minor injuries or damage                       93.0                     237.0   \n",
      "major or catastrophic accident                  5.0                       8.0   \n",
      "\n",
      "                                major or catastrophic accident  \n",
      "no accident outcome                                       14.0  \n",
      "minor injuries or damage                                  45.0  \n",
      "major or catastrophic accident                             8.0  \n",
      "                                no accident outcome  minor injuries or damage  \\\n",
      "no accident outcome                            84.0                      76.0   \n",
      "minor injuries or damage                       93.0                     237.0   \n",
      "major or catastrophic accident                  7.0                       9.0   \n",
      "\n",
      "                                major or catastrophic accident  \n",
      "no accident outcome                                       16.0  \n",
      "minor injuries or damage                                  47.0  \n",
      "major or catastrophic accident                             4.0  \n",
      "                                no accident outcome  minor injuries or damage  \\\n",
      "no accident outcome                            77.0                      87.0   \n",
      "minor injuries or damage                      102.0                     224.0   \n",
      "major or catastrophic accident                  5.0                      11.0   \n",
      "\n",
      "                                major or catastrophic accident  \n",
      "no accident outcome                                       16.0  \n",
      "minor injuries or damage                                  43.0  \n",
      "major or catastrophic accident                             8.0  \n",
      "                                no accident outcome  minor injuries or damage  \\\n",
      "no accident outcome                            86.0                      78.0   \n",
      "minor injuries or damage                       93.0                     230.0   \n",
      "major or catastrophic accident                  5.0                      14.0   \n",
      "\n",
      "                                major or catastrophic accident  \n",
      "no accident outcome                                       15.0  \n",
      "minor injuries or damage                                  47.0  \n",
      "major or catastrophic accident                             5.0  \n",
      "                                no accident outcome  minor injuries or damage  \\\n",
      "no accident outcome                            77.0                      78.0   \n",
      "minor injuries or damage                      101.0                     232.0   \n",
      "major or catastrophic accident                  6.0                      12.0   \n",
      "\n",
      "                                major or catastrophic accident  \n",
      "no accident outcome                                       16.0  \n",
      "minor injuries or damage                                  41.0  \n",
      "major or catastrophic accident                            10.0  \n",
      "                                no accident outcome  minor injuries or damage  \\\n",
      "no accident outcome                            80.0                      72.0   \n",
      "minor injuries or damage                       98.0                     241.0   \n",
      "major or catastrophic accident                  6.0                       9.0   \n",
      "\n",
      "                                major or catastrophic accident  \n",
      "no accident outcome                                       14.0  \n",
      "minor injuries or damage                                  47.0  \n",
      "major or catastrophic accident                             6.0  \n",
      "                                no accident outcome  minor injuries or damage  \\\n",
      "no accident outcome                            81.0                      77.0   \n",
      "minor injuries or damage                       95.0                     235.0   \n",
      "major or catastrophic accident                  8.0                      10.0   \n",
      "\n",
      "                                major or catastrophic accident  \n",
      "no accident outcome                                       16.0  \n",
      "minor injuries or damage                                  45.0  \n",
      "major or catastrophic accident                             6.0  \n",
      "  Precision    Recall  F1-score\n",
      "0  0.461008  0.418424  0.438685\n",
      "1  0.475448  0.428201  0.450589\n",
      "2  0.484463  0.433002  0.457289\n",
      "3  0.499609   0.44094  0.468445\n",
      "4  0.435307  0.417416  0.426174\n",
      "5  0.456052  0.411178  0.432454\n",
      "6  0.436801  0.418768  0.427594\n",
      "7  0.475919   0.42941   0.45147\n",
      "8  0.463998  0.424261  0.443241\n",
      "9  0.447395  0.419861  0.433191\n"
     ]
    }
   ],
   "source": [
    "RFC_results=pd.DataFrame(columns=['Precision','Recall','F1-score'],index=range(10))\n",
    "for i in range(10):\n",
    "\n",
    "    zero = np.zeros(shape=(3,3))\n",
    "    conf_matrix=pd.DataFrame(zero,columns=['no accident outcome','minor injuries or damage',\n",
    "                                              'major or catastrophic accident'],\n",
    "                                index=['no accident outcome','minor injuries or damage',\n",
    "                                              'major or catastrophic accident'])\n",
    "\n",
    "    X_train, X_val, y_train, y_val = train_test_split(doc_risk_tok.index.values, \n",
    "                                                  doc_risk_tok.accident.values, \n",
    "                                                  test_size=0.2, \n",
    "                                                  random_state=42, \n",
    "                                                  stratify=doc_risk_tok.accident.values)\n",
    "    doc_risk_tok['data_type'] = ['not_set']*doc_risk_tok.shape[0]\n",
    "    doc_risk_tok.loc[X_train, 'data_type'] = 'train'\n",
    "    doc_risk_tok.loc[X_val, 'data_type'] = 'val'\n",
    "\n",
    "    xx_train=doc_risk_tok[doc_risk_tok.data_type=='train'].xx\n",
    "    xx_val=doc_risk_tok[doc_risk_tok.data_type=='val'].xx\n",
    "   \n",
    "    clf = RandomForestClassifier(n_estimators=100, class_weight='balanced', max_features=None)\n",
    "    #max_features='sqrt'\n",
    "    clf.fit(sparse_risk.loc[doc_risk_tok[doc_risk_tok.data_type=='train'].xx],doc_risk_tok[doc_risk_tok.data_type=='train'].accident)\n",
    "\n",
    "    for w in xx_val:\n",
    "        pom=clf.predict(np.array(sparse_risk.loc[w]).reshape(1,-1))[0]\n",
    "        conf_matrix.loc[pom][doc_risk_tok[doc_risk_tok.xx==w].accident]+=1\n",
    "    \n",
    "\n",
    "    p0=conf_matrix.loc['no accident outcome']['no accident outcome']/(sum(conf_matrix.loc['no accident outcome']))\n",
    "    p1=conf_matrix.loc['minor injuries or damage']['minor injuries or damage']/(sum(conf_matrix.loc['minor injuries or damage']))\n",
    "    p2=conf_matrix.loc['major or catastrophic accident']['major or catastrophic accident']/(sum(conf_matrix.loc['major or catastrophic accident']))\n",
    "    r0=conf_matrix.loc['no accident outcome']['no accident outcome']/(sum(conf_matrix['no accident outcome']))\n",
    "    r1=conf_matrix.loc['minor injuries or damage']['minor injuries or damage']/(sum(conf_matrix['minor injuries or damage']))\n",
    "    r2=conf_matrix.loc['major or catastrophic accident']['major or catastrophic accident']/(sum(conf_matrix['major or catastrophic accident']))\n",
    "    P=mean([p0,p1,p2])\n",
    "    R=mean([r0,r1,r2])\n",
    "    F1=(2*P*R)/(P+R)\n",
    "\n",
    "    RFC_results.loc[i]['Precision']=P\n",
    "    RFC_results.loc[i]['Recall']=R\n",
    "    RFC_results.loc[i]['F1-score']=F1\n",
    "\n",
    "    print(conf_matrix)\n",
    "    #print(i)\n",
    "    #print(i+100*i)\n",
    "print(RFC_results)\n",
    "RESULTS=pd.DataFrame(columns=['PRECISION','RECALL','F1-SCORE'],index=['Value'])    \n",
    "RESULTS['PRECISION']=sum(RFC_results['Precision'])/10\n",
    "RESULTS['RECALL']=sum(RFC_results['Recall'])/10\n",
    "RESULTS['F1-SCORE']=sum(RFC_results['F1-score'])/10"
   ]
  },
  {
   "cell_type": "code",
   "execution_count": 11,
   "metadata": {},
   "outputs": [
    {
     "name": "stdout",
     "output_type": "stream",
     "text": [
      "       PRECISION    RECALL  F1-SCORE\n",
      "Value   0.474987  0.434331  0.453702\n"
     ]
    },
    {
     "name": "stderr",
     "output_type": "stream",
     "text": [
      "/Users/Lukre/anaconda3/lib/python3.7/site-packages/ipykernel/ipkernel.py:287: DeprecationWarning: `should_run_async` will not call `transform_cell` automatically in the future. Please pass the result to `transformed_cell` argument and any exception that happen during thetransform in `preprocessing_exc_tuple` in IPython 7.17 and above.\n",
      "  and should_run_async(code)\n"
     ]
    }
   ],
   "source": [
    "print(RESULTS)  #NEREDUCIRANI"
   ]
  },
  {
   "cell_type": "code",
   "execution_count": 25,
   "metadata": {},
   "outputs": [
    {
     "name": "stderr",
     "output_type": "stream",
     "text": [
      "/Users/Lukre/anaconda3/lib/python3.7/site-packages/ipykernel/ipkernel.py:287: DeprecationWarning: `should_run_async` will not call `transform_cell` automatically in the future. Please pass the result to `transformed_cell` argument and any exception that happen during thetransform in `preprocessing_exc_tuple` in IPython 7.17 and above.\n",
      "  and should_run_async(code)\n"
     ]
    },
    {
     "data": {
      "text/plain": [
       "array([ 270, 1194, 1242, ..., 1433,  118,  285])"
      ]
     },
     "execution_count": 25,
     "metadata": {},
     "output_type": "execute_result"
    }
   ],
   "source": [
    "clf.feature_importances_\n",
    "sorted_idx = clf.feature_importances_.argsort() #indeksi sortiranog vektora\n",
    "#sorted_features = clf.feature_importances_.sort #sortirani vektor\n",
    "ide = [0]*len(sorted_idx)\n",
    "for i in range (len (sorted_idx)):\n",
    "    ide[i] = clf.feature_importances_[sorted_idx[i]]\n",
    "ide2=[0]*10\n",
    "idx2=[0]*10\n",
    "for i in range (10):\n",
    "    idx2[i]=sorted_idx[len(sorted_idx)-1-i]\n",
    "    ide2[i] = ide[len(sorted_idx)-i-1]\n",
    "columnnames=['']*10\n",
    "j=0\n",
    "for i in idx2:\n",
    "    columnnames[j]=col_names[i]\n",
    "    j=j+1\n",
    "plt.rcParams.update({'figure.figsize': (10.0, 6.0)})\n",
    "plt.rcParams.update({'font.size': 12})\n",
    "col_names=list(sparse_risk_red.columns)\n",
    "plt.barh(columnnames, ide2)\n",
    "plt.xlabel(\"Random Forest Feature Importance\")"
   ]
  }
 ],
 "metadata": {
  "kernelspec": {
   "display_name": "Python 3",
   "language": "python",
   "name": "python3"
  },
  "language_info": {
   "codemirror_mode": {
    "name": "ipython",
    "version": 3
   },
   "file_extension": ".py",
   "mimetype": "text/x-python",
   "name": "python",
   "nbconvert_exporter": "python",
   "pygments_lexer": "ipython3",
   "version": "3.7.9"
  }
 },
 "nbformat": 4,
 "nbformat_minor": 4
}
